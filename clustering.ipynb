{
  "nbformat": 4,
  "nbformat_minor": 0,
  "metadata": {
    "colab": {
      "provenance": []
    },
    "kernelspec": {
      "name": "python3",
      "display_name": "Python 3"
    },
    "language_info": {
      "name": "python"
    }
  },
  "cells": [
    {
      "cell_type": "markdown",
      "source": [
        "Comparative Performance Study of Clustering Algorithms on Heart Disease Dataset\n",
        "\n",
        "This assignment evaluates the performance of various clustering algorithms applied to the Heart Disease dataset from the UCI Machine Learning Repository.\n",
        "\n",
        "We will apply K-Means, Hierarchical Clustering, and Mean Shift Clustering, using preprocessing methods like normalization and PCA (Principal Component Analysis) to enhance performance. The effectiveness of each method will be assessed using Silhouette Score, Calinski-Harabasz Score, and Davies-Bouldin Index. The goal is to identify the best clustering approach for this dataset."
      ],
      "metadata": {
        "id": "X_aXLfme20pA"
      }
    },
    {
      "cell_type": "code",
      "execution_count": 1,
      "metadata": {
        "id": "bAbomfRZbFe-"
      },
      "outputs": [],
      "source": [
        "import pandas as pd\n",
        "import numpy as np\n",
        "import matplotlib.pyplot as plt\n",
        "import seaborn as sns\n",
        "\n",
        "from sklearn.preprocessing import StandardScaler,MinMaxScaler\n",
        "from sklearn.decomposition import PCA\n",
        "from sklearn.cluster import KMeans,AgglomerativeClustering,MeanShift\n",
        "from sklearn.metrics import silhouette_score,calinski_harabasz_score,davies_bouldin_score\n"
      ]
    },
    {
      "cell_type": "code",
      "source": [
        "from google.colab import files\n",
        "uploaded=files.upload()  #uploaded synthetic_heart_disease_data.csv dataset here"
      ],
      "metadata": {
        "colab": {
          "base_uri": "https://localhost:8080/",
          "height": 73
        },
        "id": "4B0AwxB1b7Kh",
        "outputId": "ea09847e-5664-4c78-973f-3aac34aed091"
      },
      "execution_count": 2,
      "outputs": [
        {
          "output_type": "display_data",
          "data": {
            "text/plain": [
              "<IPython.core.display.HTML object>"
            ],
            "text/html": [
              "\n",
              "     <input type=\"file\" id=\"files-516263af-ef40-4345-a2ad-2666827f03a3\" name=\"files[]\" multiple disabled\n",
              "        style=\"border:none\" />\n",
              "     <output id=\"result-516263af-ef40-4345-a2ad-2666827f03a3\">\n",
              "      Upload widget is only available when the cell has been executed in the\n",
              "      current browser session. Please rerun this cell to enable.\n",
              "      </output>\n",
              "      <script>// Copyright 2017 Google LLC\n",
              "//\n",
              "// Licensed under the Apache License, Version 2.0 (the \"License\");\n",
              "// you may not use this file except in compliance with the License.\n",
              "// You may obtain a copy of the License at\n",
              "//\n",
              "//      http://www.apache.org/licenses/LICENSE-2.0\n",
              "//\n",
              "// Unless required by applicable law or agreed to in writing, software\n",
              "// distributed under the License is distributed on an \"AS IS\" BASIS,\n",
              "// WITHOUT WARRANTIES OR CONDITIONS OF ANY KIND, either express or implied.\n",
              "// See the License for the specific language governing permissions and\n",
              "// limitations under the License.\n",
              "\n",
              "/**\n",
              " * @fileoverview Helpers for google.colab Python module.\n",
              " */\n",
              "(function(scope) {\n",
              "function span(text, styleAttributes = {}) {\n",
              "  const element = document.createElement('span');\n",
              "  element.textContent = text;\n",
              "  for (const key of Object.keys(styleAttributes)) {\n",
              "    element.style[key] = styleAttributes[key];\n",
              "  }\n",
              "  return element;\n",
              "}\n",
              "\n",
              "// Max number of bytes which will be uploaded at a time.\n",
              "const MAX_PAYLOAD_SIZE = 100 * 1024;\n",
              "\n",
              "function _uploadFiles(inputId, outputId) {\n",
              "  const steps = uploadFilesStep(inputId, outputId);\n",
              "  const outputElement = document.getElementById(outputId);\n",
              "  // Cache steps on the outputElement to make it available for the next call\n",
              "  // to uploadFilesContinue from Python.\n",
              "  outputElement.steps = steps;\n",
              "\n",
              "  return _uploadFilesContinue(outputId);\n",
              "}\n",
              "\n",
              "// This is roughly an async generator (not supported in the browser yet),\n",
              "// where there are multiple asynchronous steps and the Python side is going\n",
              "// to poll for completion of each step.\n",
              "// This uses a Promise to block the python side on completion of each step,\n",
              "// then passes the result of the previous step as the input to the next step.\n",
              "function _uploadFilesContinue(outputId) {\n",
              "  const outputElement = document.getElementById(outputId);\n",
              "  const steps = outputElement.steps;\n",
              "\n",
              "  const next = steps.next(outputElement.lastPromiseValue);\n",
              "  return Promise.resolve(next.value.promise).then((value) => {\n",
              "    // Cache the last promise value to make it available to the next\n",
              "    // step of the generator.\n",
              "    outputElement.lastPromiseValue = value;\n",
              "    return next.value.response;\n",
              "  });\n",
              "}\n",
              "\n",
              "/**\n",
              " * Generator function which is called between each async step of the upload\n",
              " * process.\n",
              " * @param {string} inputId Element ID of the input file picker element.\n",
              " * @param {string} outputId Element ID of the output display.\n",
              " * @return {!Iterable<!Object>} Iterable of next steps.\n",
              " */\n",
              "function* uploadFilesStep(inputId, outputId) {\n",
              "  const inputElement = document.getElementById(inputId);\n",
              "  inputElement.disabled = false;\n",
              "\n",
              "  const outputElement = document.getElementById(outputId);\n",
              "  outputElement.innerHTML = '';\n",
              "\n",
              "  const pickedPromise = new Promise((resolve) => {\n",
              "    inputElement.addEventListener('change', (e) => {\n",
              "      resolve(e.target.files);\n",
              "    });\n",
              "  });\n",
              "\n",
              "  const cancel = document.createElement('button');\n",
              "  inputElement.parentElement.appendChild(cancel);\n",
              "  cancel.textContent = 'Cancel upload';\n",
              "  const cancelPromise = new Promise((resolve) => {\n",
              "    cancel.onclick = () => {\n",
              "      resolve(null);\n",
              "    };\n",
              "  });\n",
              "\n",
              "  // Wait for the user to pick the files.\n",
              "  const files = yield {\n",
              "    promise: Promise.race([pickedPromise, cancelPromise]),\n",
              "    response: {\n",
              "      action: 'starting',\n",
              "    }\n",
              "  };\n",
              "\n",
              "  cancel.remove();\n",
              "\n",
              "  // Disable the input element since further picks are not allowed.\n",
              "  inputElement.disabled = true;\n",
              "\n",
              "  if (!files) {\n",
              "    return {\n",
              "      response: {\n",
              "        action: 'complete',\n",
              "      }\n",
              "    };\n",
              "  }\n",
              "\n",
              "  for (const file of files) {\n",
              "    const li = document.createElement('li');\n",
              "    li.append(span(file.name, {fontWeight: 'bold'}));\n",
              "    li.append(span(\n",
              "        `(${file.type || 'n/a'}) - ${file.size} bytes, ` +\n",
              "        `last modified: ${\n",
              "            file.lastModifiedDate ? file.lastModifiedDate.toLocaleDateString() :\n",
              "                                    'n/a'} - `));\n",
              "    const percent = span('0% done');\n",
              "    li.appendChild(percent);\n",
              "\n",
              "    outputElement.appendChild(li);\n",
              "\n",
              "    const fileDataPromise = new Promise((resolve) => {\n",
              "      const reader = new FileReader();\n",
              "      reader.onload = (e) => {\n",
              "        resolve(e.target.result);\n",
              "      };\n",
              "      reader.readAsArrayBuffer(file);\n",
              "    });\n",
              "    // Wait for the data to be ready.\n",
              "    let fileData = yield {\n",
              "      promise: fileDataPromise,\n",
              "      response: {\n",
              "        action: 'continue',\n",
              "      }\n",
              "    };\n",
              "\n",
              "    // Use a chunked sending to avoid message size limits. See b/62115660.\n",
              "    let position = 0;\n",
              "    do {\n",
              "      const length = Math.min(fileData.byteLength - position, MAX_PAYLOAD_SIZE);\n",
              "      const chunk = new Uint8Array(fileData, position, length);\n",
              "      position += length;\n",
              "\n",
              "      const base64 = btoa(String.fromCharCode.apply(null, chunk));\n",
              "      yield {\n",
              "        response: {\n",
              "          action: 'append',\n",
              "          file: file.name,\n",
              "          data: base64,\n",
              "        },\n",
              "      };\n",
              "\n",
              "      let percentDone = fileData.byteLength === 0 ?\n",
              "          100 :\n",
              "          Math.round((position / fileData.byteLength) * 100);\n",
              "      percent.textContent = `${percentDone}% done`;\n",
              "\n",
              "    } while (position < fileData.byteLength);\n",
              "  }\n",
              "\n",
              "  // All done.\n",
              "  yield {\n",
              "    response: {\n",
              "      action: 'complete',\n",
              "    }\n",
              "  };\n",
              "}\n",
              "\n",
              "scope.google = scope.google || {};\n",
              "scope.google.colab = scope.google.colab || {};\n",
              "scope.google.colab._files = {\n",
              "  _uploadFiles,\n",
              "  _uploadFilesContinue,\n",
              "};\n",
              "})(self);\n",
              "</script> "
            ]
          },
          "metadata": {}
        },
        {
          "output_type": "stream",
          "name": "stdout",
          "text": [
            "Saving synthetic_heart_disease_data.csv to synthetic_heart_disease_data.csv\n"
          ]
        }
      ]
    },
    {
      "cell_type": "code",
      "source": [
        "column_names = ['age', 'sex', 'cp', 'trestbps', 'chol', 'fbs', 'restecg', 'thalach',\n",
        "                'exang', 'oldpeak', 'slope', 'ca', 'thal', 'target']\n",
        "\n",
        "data = pd.read_csv('synthetic_heart_disease_data.csv', names=column_names)\n",
        "\n",
        "data.head()"
      ],
      "metadata": {
        "colab": {
          "base_uri": "https://localhost:8080/",
          "height": 206
        },
        "id": "lg4UxT630pRP",
        "outputId": "b6f22096-1cac-4184-bac4-cebe6f8a2ee5"
      },
      "execution_count": 3,
      "outputs": [
        {
          "output_type": "execute_result",
          "data": {
            "text/plain": [
              "   age  sex  cp  trestbps  chol  fbs  restecg  thalach  exang  \\\n",
              "0  age  sex  cp  trestbps  chol  fbs  restecg  thalach  exang   \n",
              "1   67    1   3       112   578    1        1      146      0   \n",
              "2   57    1   0       183   442    1        0       79      0   \n",
              "3   43    1   2       160   429    0        2       98      0   \n",
              "4   71    0   1       112   272    1        0      198      0   \n",
              "\n",
              "              oldpeak  slope  ca  thal  target  \n",
              "0             oldpeak  slope  ca  thal  target  \n",
              "1  1.7877567092517028      2   2     3       1  \n",
              "2   3.141613656090067      2   4     6       0  \n",
              "3  4.1858512289607805      2   0     1       1  \n",
              "4   4.778830654043263      0   0     2       0  "
            ],
            "text/html": [
              "\n",
              "  <div id=\"df-6cbc50d5-efe5-48ea-a286-e53b2de8dc3f\" class=\"colab-df-container\">\n",
              "    <div>\n",
              "<style scoped>\n",
              "    .dataframe tbody tr th:only-of-type {\n",
              "        vertical-align: middle;\n",
              "    }\n",
              "\n",
              "    .dataframe tbody tr th {\n",
              "        vertical-align: top;\n",
              "    }\n",
              "\n",
              "    .dataframe thead th {\n",
              "        text-align: right;\n",
              "    }\n",
              "</style>\n",
              "<table border=\"1\" class=\"dataframe\">\n",
              "  <thead>\n",
              "    <tr style=\"text-align: right;\">\n",
              "      <th></th>\n",
              "      <th>age</th>\n",
              "      <th>sex</th>\n",
              "      <th>cp</th>\n",
              "      <th>trestbps</th>\n",
              "      <th>chol</th>\n",
              "      <th>fbs</th>\n",
              "      <th>restecg</th>\n",
              "      <th>thalach</th>\n",
              "      <th>exang</th>\n",
              "      <th>oldpeak</th>\n",
              "      <th>slope</th>\n",
              "      <th>ca</th>\n",
              "      <th>thal</th>\n",
              "      <th>target</th>\n",
              "    </tr>\n",
              "  </thead>\n",
              "  <tbody>\n",
              "    <tr>\n",
              "      <th>0</th>\n",
              "      <td>age</td>\n",
              "      <td>sex</td>\n",
              "      <td>cp</td>\n",
              "      <td>trestbps</td>\n",
              "      <td>chol</td>\n",
              "      <td>fbs</td>\n",
              "      <td>restecg</td>\n",
              "      <td>thalach</td>\n",
              "      <td>exang</td>\n",
              "      <td>oldpeak</td>\n",
              "      <td>slope</td>\n",
              "      <td>ca</td>\n",
              "      <td>thal</td>\n",
              "      <td>target</td>\n",
              "    </tr>\n",
              "    <tr>\n",
              "      <th>1</th>\n",
              "      <td>67</td>\n",
              "      <td>1</td>\n",
              "      <td>3</td>\n",
              "      <td>112</td>\n",
              "      <td>578</td>\n",
              "      <td>1</td>\n",
              "      <td>1</td>\n",
              "      <td>146</td>\n",
              "      <td>0</td>\n",
              "      <td>1.7877567092517028</td>\n",
              "      <td>2</td>\n",
              "      <td>2</td>\n",
              "      <td>3</td>\n",
              "      <td>1</td>\n",
              "    </tr>\n",
              "    <tr>\n",
              "      <th>2</th>\n",
              "      <td>57</td>\n",
              "      <td>1</td>\n",
              "      <td>0</td>\n",
              "      <td>183</td>\n",
              "      <td>442</td>\n",
              "      <td>1</td>\n",
              "      <td>0</td>\n",
              "      <td>79</td>\n",
              "      <td>0</td>\n",
              "      <td>3.141613656090067</td>\n",
              "      <td>2</td>\n",
              "      <td>4</td>\n",
              "      <td>6</td>\n",
              "      <td>0</td>\n",
              "    </tr>\n",
              "    <tr>\n",
              "      <th>3</th>\n",
              "      <td>43</td>\n",
              "      <td>1</td>\n",
              "      <td>2</td>\n",
              "      <td>160</td>\n",
              "      <td>429</td>\n",
              "      <td>0</td>\n",
              "      <td>2</td>\n",
              "      <td>98</td>\n",
              "      <td>0</td>\n",
              "      <td>4.1858512289607805</td>\n",
              "      <td>2</td>\n",
              "      <td>0</td>\n",
              "      <td>1</td>\n",
              "      <td>1</td>\n",
              "    </tr>\n",
              "    <tr>\n",
              "      <th>4</th>\n",
              "      <td>71</td>\n",
              "      <td>0</td>\n",
              "      <td>1</td>\n",
              "      <td>112</td>\n",
              "      <td>272</td>\n",
              "      <td>1</td>\n",
              "      <td>0</td>\n",
              "      <td>198</td>\n",
              "      <td>0</td>\n",
              "      <td>4.778830654043263</td>\n",
              "      <td>0</td>\n",
              "      <td>0</td>\n",
              "      <td>2</td>\n",
              "      <td>0</td>\n",
              "    </tr>\n",
              "  </tbody>\n",
              "</table>\n",
              "</div>\n",
              "    <div class=\"colab-df-buttons\">\n",
              "\n",
              "  <div class=\"colab-df-container\">\n",
              "    <button class=\"colab-df-convert\" onclick=\"convertToInteractive('df-6cbc50d5-efe5-48ea-a286-e53b2de8dc3f')\"\n",
              "            title=\"Convert this dataframe to an interactive table.\"\n",
              "            style=\"display:none;\">\n",
              "\n",
              "  <svg xmlns=\"http://www.w3.org/2000/svg\" height=\"24px\" viewBox=\"0 -960 960 960\">\n",
              "    <path d=\"M120-120v-720h720v720H120Zm60-500h600v-160H180v160Zm220 220h160v-160H400v160Zm0 220h160v-160H400v160ZM180-400h160v-160H180v160Zm440 0h160v-160H620v160ZM180-180h160v-160H180v160Zm440 0h160v-160H620v160Z\"/>\n",
              "  </svg>\n",
              "    </button>\n",
              "\n",
              "  <style>\n",
              "    .colab-df-container {\n",
              "      display:flex;\n",
              "      gap: 12px;\n",
              "    }\n",
              "\n",
              "    .colab-df-convert {\n",
              "      background-color: #E8F0FE;\n",
              "      border: none;\n",
              "      border-radius: 50%;\n",
              "      cursor: pointer;\n",
              "      display: none;\n",
              "      fill: #1967D2;\n",
              "      height: 32px;\n",
              "      padding: 0 0 0 0;\n",
              "      width: 32px;\n",
              "    }\n",
              "\n",
              "    .colab-df-convert:hover {\n",
              "      background-color: #E2EBFA;\n",
              "      box-shadow: 0px 1px 2px rgba(60, 64, 67, 0.3), 0px 1px 3px 1px rgba(60, 64, 67, 0.15);\n",
              "      fill: #174EA6;\n",
              "    }\n",
              "\n",
              "    .colab-df-buttons div {\n",
              "      margin-bottom: 4px;\n",
              "    }\n",
              "\n",
              "    [theme=dark] .colab-df-convert {\n",
              "      background-color: #3B4455;\n",
              "      fill: #D2E3FC;\n",
              "    }\n",
              "\n",
              "    [theme=dark] .colab-df-convert:hover {\n",
              "      background-color: #434B5C;\n",
              "      box-shadow: 0px 1px 3px 1px rgba(0, 0, 0, 0.15);\n",
              "      filter: drop-shadow(0px 1px 2px rgba(0, 0, 0, 0.3));\n",
              "      fill: #FFFFFF;\n",
              "    }\n",
              "  </style>\n",
              "\n",
              "    <script>\n",
              "      const buttonEl =\n",
              "        document.querySelector('#df-6cbc50d5-efe5-48ea-a286-e53b2de8dc3f button.colab-df-convert');\n",
              "      buttonEl.style.display =\n",
              "        google.colab.kernel.accessAllowed ? 'block' : 'none';\n",
              "\n",
              "      async function convertToInteractive(key) {\n",
              "        const element = document.querySelector('#df-6cbc50d5-efe5-48ea-a286-e53b2de8dc3f');\n",
              "        const dataTable =\n",
              "          await google.colab.kernel.invokeFunction('convertToInteractive',\n",
              "                                                    [key], {});\n",
              "        if (!dataTable) return;\n",
              "\n",
              "        const docLinkHtml = 'Like what you see? Visit the ' +\n",
              "          '<a target=\"_blank\" href=https://colab.research.google.com/notebooks/data_table.ipynb>data table notebook</a>'\n",
              "          + ' to learn more about interactive tables.';\n",
              "        element.innerHTML = '';\n",
              "        dataTable['output_type'] = 'display_data';\n",
              "        await google.colab.output.renderOutput(dataTable, element);\n",
              "        const docLink = document.createElement('div');\n",
              "        docLink.innerHTML = docLinkHtml;\n",
              "        element.appendChild(docLink);\n",
              "      }\n",
              "    </script>\n",
              "  </div>\n",
              "\n",
              "\n",
              "<div id=\"df-46ec9d76-0146-4c3b-aa4f-ed494ac15a76\">\n",
              "  <button class=\"colab-df-quickchart\" onclick=\"quickchart('df-46ec9d76-0146-4c3b-aa4f-ed494ac15a76')\"\n",
              "            title=\"Suggest charts\"\n",
              "            style=\"display:none;\">\n",
              "\n",
              "<svg xmlns=\"http://www.w3.org/2000/svg\" height=\"24px\"viewBox=\"0 0 24 24\"\n",
              "     width=\"24px\">\n",
              "    <g>\n",
              "        <path d=\"M19 3H5c-1.1 0-2 .9-2 2v14c0 1.1.9 2 2 2h14c1.1 0 2-.9 2-2V5c0-1.1-.9-2-2-2zM9 17H7v-7h2v7zm4 0h-2V7h2v10zm4 0h-2v-4h2v4z\"/>\n",
              "    </g>\n",
              "</svg>\n",
              "  </button>\n",
              "\n",
              "<style>\n",
              "  .colab-df-quickchart {\n",
              "      --bg-color: #E8F0FE;\n",
              "      --fill-color: #1967D2;\n",
              "      --hover-bg-color: #E2EBFA;\n",
              "      --hover-fill-color: #174EA6;\n",
              "      --disabled-fill-color: #AAA;\n",
              "      --disabled-bg-color: #DDD;\n",
              "  }\n",
              "\n",
              "  [theme=dark] .colab-df-quickchart {\n",
              "      --bg-color: #3B4455;\n",
              "      --fill-color: #D2E3FC;\n",
              "      --hover-bg-color: #434B5C;\n",
              "      --hover-fill-color: #FFFFFF;\n",
              "      --disabled-bg-color: #3B4455;\n",
              "      --disabled-fill-color: #666;\n",
              "  }\n",
              "\n",
              "  .colab-df-quickchart {\n",
              "    background-color: var(--bg-color);\n",
              "    border: none;\n",
              "    border-radius: 50%;\n",
              "    cursor: pointer;\n",
              "    display: none;\n",
              "    fill: var(--fill-color);\n",
              "    height: 32px;\n",
              "    padding: 0;\n",
              "    width: 32px;\n",
              "  }\n",
              "\n",
              "  .colab-df-quickchart:hover {\n",
              "    background-color: var(--hover-bg-color);\n",
              "    box-shadow: 0 1px 2px rgba(60, 64, 67, 0.3), 0 1px 3px 1px rgba(60, 64, 67, 0.15);\n",
              "    fill: var(--button-hover-fill-color);\n",
              "  }\n",
              "\n",
              "  .colab-df-quickchart-complete:disabled,\n",
              "  .colab-df-quickchart-complete:disabled:hover {\n",
              "    background-color: var(--disabled-bg-color);\n",
              "    fill: var(--disabled-fill-color);\n",
              "    box-shadow: none;\n",
              "  }\n",
              "\n",
              "  .colab-df-spinner {\n",
              "    border: 2px solid var(--fill-color);\n",
              "    border-color: transparent;\n",
              "    border-bottom-color: var(--fill-color);\n",
              "    animation:\n",
              "      spin 1s steps(1) infinite;\n",
              "  }\n",
              "\n",
              "  @keyframes spin {\n",
              "    0% {\n",
              "      border-color: transparent;\n",
              "      border-bottom-color: var(--fill-color);\n",
              "      border-left-color: var(--fill-color);\n",
              "    }\n",
              "    20% {\n",
              "      border-color: transparent;\n",
              "      border-left-color: var(--fill-color);\n",
              "      border-top-color: var(--fill-color);\n",
              "    }\n",
              "    30% {\n",
              "      border-color: transparent;\n",
              "      border-left-color: var(--fill-color);\n",
              "      border-top-color: var(--fill-color);\n",
              "      border-right-color: var(--fill-color);\n",
              "    }\n",
              "    40% {\n",
              "      border-color: transparent;\n",
              "      border-right-color: var(--fill-color);\n",
              "      border-top-color: var(--fill-color);\n",
              "    }\n",
              "    60% {\n",
              "      border-color: transparent;\n",
              "      border-right-color: var(--fill-color);\n",
              "    }\n",
              "    80% {\n",
              "      border-color: transparent;\n",
              "      border-right-color: var(--fill-color);\n",
              "      border-bottom-color: var(--fill-color);\n",
              "    }\n",
              "    90% {\n",
              "      border-color: transparent;\n",
              "      border-bottom-color: var(--fill-color);\n",
              "    }\n",
              "  }\n",
              "</style>\n",
              "\n",
              "  <script>\n",
              "    async function quickchart(key) {\n",
              "      const quickchartButtonEl =\n",
              "        document.querySelector('#' + key + ' button');\n",
              "      quickchartButtonEl.disabled = true;  // To prevent multiple clicks.\n",
              "      quickchartButtonEl.classList.add('colab-df-spinner');\n",
              "      try {\n",
              "        const charts = await google.colab.kernel.invokeFunction(\n",
              "            'suggestCharts', [key], {});\n",
              "      } catch (error) {\n",
              "        console.error('Error during call to suggestCharts:', error);\n",
              "      }\n",
              "      quickchartButtonEl.classList.remove('colab-df-spinner');\n",
              "      quickchartButtonEl.classList.add('colab-df-quickchart-complete');\n",
              "    }\n",
              "    (() => {\n",
              "      let quickchartButtonEl =\n",
              "        document.querySelector('#df-46ec9d76-0146-4c3b-aa4f-ed494ac15a76 button');\n",
              "      quickchartButtonEl.style.display =\n",
              "        google.colab.kernel.accessAllowed ? 'block' : 'none';\n",
              "    })();\n",
              "  </script>\n",
              "</div>\n",
              "\n",
              "    </div>\n",
              "  </div>\n"
            ],
            "application/vnd.google.colaboratory.intrinsic+json": {
              "type": "dataframe",
              "variable_name": "data",
              "summary": "{\n  \"name\": \"data\",\n  \"rows\": 101,\n  \"fields\": [\n    {\n      \"column\": \"age\",\n      \"properties\": {\n        \"dtype\": \"category\",\n        \"num_unique_values\": 45,\n        \"samples\": [\n          \"38\",\n          \"44\",\n          \"75\"\n        ],\n        \"semantic_type\": \"\",\n        \"description\": \"\"\n      }\n    },\n    {\n      \"column\": \"sex\",\n      \"properties\": {\n        \"dtype\": \"category\",\n        \"num_unique_values\": 3,\n        \"samples\": [\n          \"sex\",\n          \"1\",\n          \"0\"\n        ],\n        \"semantic_type\": \"\",\n        \"description\": \"\"\n      }\n    },\n    {\n      \"column\": \"cp\",\n      \"properties\": {\n        \"dtype\": \"category\",\n        \"num_unique_values\": 5,\n        \"samples\": [\n          \"3\",\n          \"1\",\n          \"0\"\n        ],\n        \"semantic_type\": \"\",\n        \"description\": \"\"\n      }\n    },\n    {\n      \"column\": \"trestbps\",\n      \"properties\": {\n        \"dtype\": \"string\",\n        \"num_unique_values\": 69,\n        \"samples\": [\n          \"187\",\n          \"trestbps\",\n          \"159\"\n        ],\n        \"semantic_type\": \"\",\n        \"description\": \"\"\n      }\n    },\n    {\n      \"column\": \"chol\",\n      \"properties\": {\n        \"dtype\": \"string\",\n        \"num_unique_values\": 95,\n        \"samples\": [\n          \"138\",\n          \"427\",\n          \"161\"\n        ],\n        \"semantic_type\": \"\",\n        \"description\": \"\"\n      }\n    },\n    {\n      \"column\": \"fbs\",\n      \"properties\": {\n        \"dtype\": \"category\",\n        \"num_unique_values\": 3,\n        \"samples\": [\n          \"fbs\",\n          \"1\",\n          \"0\"\n        ],\n        \"semantic_type\": \"\",\n        \"description\": \"\"\n      }\n    },\n    {\n      \"column\": \"restecg\",\n      \"properties\": {\n        \"dtype\": \"category\",\n        \"num_unique_values\": 4,\n        \"samples\": [\n          \"1\",\n          \"2\",\n          \"restecg\"\n        ],\n        \"semantic_type\": \"\",\n        \"description\": \"\"\n      }\n    },\n    {\n      \"column\": \"thalach\",\n      \"properties\": {\n        \"dtype\": \"string\",\n        \"num_unique_values\": 73,\n        \"samples\": [\n          \"198\",\n          \"152\",\n          \"192\"\n        ],\n        \"semantic_type\": \"\",\n        \"description\": \"\"\n      }\n    },\n    {\n      \"column\": \"exang\",\n      \"properties\": {\n        \"dtype\": \"category\",\n        \"num_unique_values\": 3,\n        \"samples\": [\n          \"exang\",\n          \"0\",\n          \"1\"\n        ],\n        \"semantic_type\": \"\",\n        \"description\": \"\"\n      }\n    },\n    {\n      \"column\": \"oldpeak\",\n      \"properties\": {\n        \"dtype\": \"string\",\n        \"num_unique_values\": 101,\n        \"samples\": [\n          \"2.272635755707736\",\n          \"4.323096368348789\",\n          \"0.6292149991948854\"\n        ],\n        \"semantic_type\": \"\",\n        \"description\": \"\"\n      }\n    },\n    {\n      \"column\": \"slope\",\n      \"properties\": {\n        \"dtype\": \"category\",\n        \"num_unique_values\": 4,\n        \"samples\": [\n          \"2\",\n          \"1\",\n          \"slope\"\n        ],\n        \"semantic_type\": \"\",\n        \"description\": \"\"\n      }\n    },\n    {\n      \"column\": \"ca\",\n      \"properties\": {\n        \"dtype\": \"category\",\n        \"num_unique_values\": 6,\n        \"samples\": [\n          \"ca\",\n          \"2\",\n          \"3\"\n        ],\n        \"semantic_type\": \"\",\n        \"description\": \"\"\n      }\n    },\n    {\n      \"column\": \"thal\",\n      \"properties\": {\n        \"dtype\": \"category\",\n        \"num_unique_values\": 6,\n        \"samples\": [\n          \"thal\",\n          \"3\",\n          \"7\"\n        ],\n        \"semantic_type\": \"\",\n        \"description\": \"\"\n      }\n    },\n    {\n      \"column\": \"target\",\n      \"properties\": {\n        \"dtype\": \"category\",\n        \"num_unique_values\": 3,\n        \"samples\": [\n          \"target\",\n          \"1\",\n          \"0\"\n        ],\n        \"semantic_type\": \"\",\n        \"description\": \"\"\n      }\n    }\n  ]\n}"
            }
          },
          "metadata": {},
          "execution_count": 3
        }
      ]
    },
    {
      "cell_type": "code",
      "source": [
        "data.replace('NaN', np.nan,inplace=True)\n",
        "\n",
        "# Convered columns to numeric:\n",
        "data=data.apply(pd.to_numeric,errors='ignore')\n",
        "\n",
        "# Filled missing values in numeric columns only:\n",
        "numeric_cols = data.select_dtypes(include=[np.number]).columns\n",
        "data[numeric_cols] = data[numeric_cols].fillna(data[numeric_cols].mean())"
      ],
      "metadata": {
        "colab": {
          "base_uri": "https://localhost:8080/"
        },
        "id": "XWNA-P5t2mzd",
        "outputId": "3fbe511a-7758-4aca-f039-e8d6aa36ea73"
      },
      "execution_count": 6,
      "outputs": [
        {
          "output_type": "stream",
          "name": "stderr",
          "text": [
            "<ipython-input-6-2a63e0e814f0>:4: FutureWarning: errors='ignore' is deprecated and will raise in a future version. Use to_numeric without passing `errors` and catch exceptions explicitly instead\n",
            "  data=data.apply(pd.to_numeric,errors='ignore')\n"
          ]
        }
      ]
    },
    {
      "cell_type": "code",
      "source": [
        "categorical_columns = ['sex', 'cp', 'fbs', 'restecg', 'exang', 'slope', 'ca', 'thal']\n",
        "data_encoded = pd.get_dummies(data, columns=categorical_columns, drop_first=True)\n",
        "\n",
        "print(\"After one-hot encoding:\")\n",
        "print(data_encoded.info())\n",
        "print(\"Columns in the DataFrame after encoding:\", data_encoded.columns.tolist())\n",
        "numeric_columns = ['age', 'trestbps', 'chol', 'thalach', 'oldpeak']\n",
        "\n",
        "for column in numeric_columns:\n",
        "    data_encoded[column] = pd.to_numeric(data_encoded[column], errors='coerce')\n",
        "\n",
        "#Check for any remaining NaN values after conversion\n",
        "if data_encoded[numeric_columns].isnull().any().any():\n",
        "    print(\"There are still non-numeric values in the following columns:\")\n",
        "    print(data_encoded[numeric_columns].isnull().sum())\n",
        "\n",
        "#Fill missing values in numeric columns:\n",
        "data_encoded[numeric_columns].fillna(data_encoded[numeric_columns].mean(), inplace=True)\n",
        "\n",
        "\n",
        "scaler = StandardScaler()\n",
        "scaled_data = scaler.fit_transform(data_encoded.drop('target', axis=1))\n",
        "\n",
        "print(\"Scaled data shape:\", scaled_data.shape)"
      ],
      "metadata": {
        "colab": {
          "base_uri": "https://localhost:8080/"
        },
        "id": "2M2LcOAfJwrs",
        "outputId": "9af122be-d9f7-4b5e-ecf9-8e2c1f5830f1",
        "collapsed": true
      },
      "execution_count": 7,
      "outputs": [
        {
          "output_type": "stream",
          "name": "stdout",
          "text": [
            "After one-hot encoding:\n",
            "<class 'pandas.core.frame.DataFrame'>\n",
            "RangeIndex: 101 entries, 0 to 100\n",
            "Data columns (total 32 columns):\n",
            " #   Column           Non-Null Count  Dtype \n",
            "---  ------           --------------  ----- \n",
            " 0   age              101 non-null    object\n",
            " 1   trestbps         101 non-null    object\n",
            " 2   chol             101 non-null    object\n",
            " 3   thalach          101 non-null    object\n",
            " 4   oldpeak          101 non-null    object\n",
            " 5   target           101 non-null    object\n",
            " 6   sex_1            101 non-null    bool  \n",
            " 7   sex_sex          101 non-null    bool  \n",
            " 8   cp_1             101 non-null    bool  \n",
            " 9   cp_2             101 non-null    bool  \n",
            " 10  cp_3             101 non-null    bool  \n",
            " 11  cp_cp            101 non-null    bool  \n",
            " 12  fbs_1            101 non-null    bool  \n",
            " 13  fbs_fbs          101 non-null    bool  \n",
            " 14  restecg_1        101 non-null    bool  \n",
            " 15  restecg_2        101 non-null    bool  \n",
            " 16  restecg_restecg  101 non-null    bool  \n",
            " 17  exang_1          101 non-null    bool  \n",
            " 18  exang_exang      101 non-null    bool  \n",
            " 19  slope_1          101 non-null    bool  \n",
            " 20  slope_2          101 non-null    bool  \n",
            " 21  slope_slope      101 non-null    bool  \n",
            " 22  ca_1             101 non-null    bool  \n",
            " 23  ca_2             101 non-null    bool  \n",
            " 24  ca_3             101 non-null    bool  \n",
            " 25  ca_4             101 non-null    bool  \n",
            " 26  ca_ca            101 non-null    bool  \n",
            " 27  thal_2           101 non-null    bool  \n",
            " 28  thal_3           101 non-null    bool  \n",
            " 29  thal_6           101 non-null    bool  \n",
            " 30  thal_7           101 non-null    bool  \n",
            " 31  thal_thal        101 non-null    bool  \n",
            "dtypes: bool(26), object(6)\n",
            "memory usage: 7.4+ KB\n",
            "None\n",
            "Columns in the DataFrame after encoding: ['age', 'trestbps', 'chol', 'thalach', 'oldpeak', 'target', 'sex_1', 'sex_sex', 'cp_1', 'cp_2', 'cp_3', 'cp_cp', 'fbs_1', 'fbs_fbs', 'restecg_1', 'restecg_2', 'restecg_restecg', 'exang_1', 'exang_exang', 'slope_1', 'slope_2', 'slope_slope', 'ca_1', 'ca_2', 'ca_3', 'ca_4', 'ca_ca', 'thal_2', 'thal_3', 'thal_6', 'thal_7', 'thal_thal']\n",
            "There are still non-numeric values in the following columns:\n",
            "age         1\n",
            "trestbps    1\n",
            "chol        1\n",
            "thalach     1\n",
            "oldpeak     1\n",
            "dtype: int64\n",
            "Scaled data shape: (101, 31)\n"
          ]
        },
        {
          "output_type": "stream",
          "name": "stderr",
          "text": [
            "<ipython-input-7-073fc2cefb71>:18: SettingWithCopyWarning: \n",
            "A value is trying to be set on a copy of a slice from a DataFrame\n",
            "\n",
            "See the caveats in the documentation: https://pandas.pydata.org/pandas-docs/stable/user_guide/indexing.html#returning-a-view-versus-a-copy\n",
            "  data_encoded[numeric_columns].fillna(data_encoded[numeric_columns].mean(), inplace=True)\n"
          ]
        }
      ]
    },
    {
      "cell_type": "code",
      "source": [
        "#here Checking for missing values in scaled_data\n",
        "print(\"Missing values in scaled_data:\")\n",
        "print(pd.isnull(scaled_data).sum())\n"
      ],
      "metadata": {
        "colab": {
          "base_uri": "https://localhost:8080/"
        },
        "id": "wdLK1-tkLj1Q",
        "outputId": "ce2ca718-fea5-48ff-84db-dceef6868376"
      },
      "execution_count": 8,
      "outputs": [
        {
          "output_type": "stream",
          "name": "stdout",
          "text": [
            "Missing values in scaled_data:\n",
            "5\n"
          ]
        }
      ]
    },
    {
      "cell_type": "code",
      "source": [
        "# Mean imputation for NaN values\n",
        "scaled_data = np.nan_to_num(scaled_data, nan=np.nanmean(scaled_data))"
      ],
      "metadata": {
        "id": "WaKc71mFLoRW"
      },
      "execution_count": 10,
      "outputs": []
    },
    {
      "cell_type": "code",
      "source": [
        "# again Checking for missing values in scaled_data\n",
        "print(\"Missing values in scaled_data:\")\n",
        "print(pd.isnull(scaled_data).sum())"
      ],
      "metadata": {
        "colab": {
          "base_uri": "https://localhost:8080/"
        },
        "id": "bHs41dA-LrFf",
        "outputId": "a32a1823-7e53-416c-c0d8-054b20913af2"
      },
      "execution_count": 13,
      "outputs": [
        {
          "output_type": "stream",
          "name": "stdout",
          "text": [
            "Missing values in scaled_data:\n",
            "0\n"
          ]
        }
      ]
    },
    {
      "cell_type": "code",
      "source": [
        "#Apply PCA\n",
        "pca = PCA(n_components=2)  # Set the number of components to 2\n",
        "reduced_data = pca.fit_transform(scaled_data)  # Fit PCA and transform the scaled data\n",
        "\n",
        "# Print explained variance ratio\n",
        "print(\"Explained Variance Ratio of PCA Components:\")\n",
        "print(pca.explained_variance_ratio_)"
      ],
      "metadata": {
        "colab": {
          "base_uri": "https://localhost:8080/"
        },
        "id": "LQT6g_hy6_5t",
        "outputId": "4a045139-7f2d-4087-f17f-a93b8cdaffed"
      },
      "execution_count": 14,
      "outputs": [
        {
          "output_type": "stream",
          "name": "stdout",
          "text": [
            "Explained Variance Ratio of PCA Components:\n",
            "[0.2610603 0.0706206]\n"
          ]
        }
      ]
    },
    {
      "cell_type": "code",
      "source": [
        "# K-Means clustering\n",
        "kmeans = KMeans(n_clusters=3, random_state=42)\n",
        "kmeans_labels = kmeans.fit_predict(scaled_data)"
      ],
      "metadata": {
        "id": "9LFFxoH_7SZA"
      },
      "execution_count": 15,
      "outputs": []
    },
    {
      "cell_type": "code",
      "source": [
        "# Hierarchical clustering\n",
        "hierarchical = AgglomerativeClustering(n_clusters=3)\n",
        "hierarchical_labels = hierarchical.fit_predict(scaled_data)"
      ],
      "metadata": {
        "id": "m1XsAytD7VJy"
      },
      "execution_count": 17,
      "outputs": []
    },
    {
      "cell_type": "code",
      "source": [
        "# Mean Shift clustering\n",
        "mean_shift = MeanShift()\n",
        "mean_shift_labels = mean_shift.fit_predict(scaled_data)"
      ],
      "metadata": {
        "id": "cmre9YrN7WwC"
      },
      "execution_count": 18,
      "outputs": []
    },
    {
      "cell_type": "code",
      "source": [
        "# K-Means evaluation\n",
        "kmeans_silhouette = silhouette_score(scaled_data, kmeans_labels)\n",
        "kmeans_calinski = calinski_harabasz_score(scaled_data, kmeans_labels)\n",
        "kmeans_davies = davies_bouldin_score(scaled_data, kmeans_labels)\n",
        "\n",
        "print(f\"K-Means Silhouette Score: {kmeans_silhouette}\")\n",
        "print(f\"K-Means Calinski-Harabasz Score: {kmeans_calinski}\")\n",
        "print(f\"K-Means Davies-Bouldin Index: {kmeans_davies}\")"
      ],
      "metadata": {
        "colab": {
          "base_uri": "https://localhost:8080/"
        },
        "id": "VP4ZKpV67ix-",
        "outputId": "60fc829e-469b-4434-ad29-b6b419e53f4f"
      },
      "execution_count": 19,
      "outputs": [
        {
          "output_type": "stream",
          "name": "stdout",
          "text": [
            "K-Means Silhouette Score: 0.04897574515723042\n",
            "K-Means Calinski-Harabasz Score: 21.40549633728936\n",
            "K-Means Davies-Bouldin Index: 2.685053561934026\n"
          ]
        }
      ]
    },
    {
      "cell_type": "code",
      "source": [
        "# Hierarchical clustering evaluation\n",
        "hierarchical_silhouette = silhouette_score(scaled_data, hierarchical_labels)\n",
        "hierarchical_calinski = calinski_harabasz_score(scaled_data, hierarchical_labels)\n",
        "hierarchical_davies = davies_bouldin_score(scaled_data, hierarchical_labels)\n",
        "\n",
        "print(f\"Hierarchical Silhouette Score: {hierarchical_silhouette}\")\n",
        "print(f\"Hierarchical Calinski-Harabasz Score: {hierarchical_calinski}\")\n",
        "print(f\"Hierarchical Davies-Bouldin Index: {hierarchical_davies}\")\n"
      ],
      "metadata": {
        "colab": {
          "base_uri": "https://localhost:8080/"
        },
        "id": "27PmpT9n7lOx",
        "outputId": "04f7868c-92e0-41c0-ab9f-7f85967bbf4b"
      },
      "execution_count": 20,
      "outputs": [
        {
          "output_type": "stream",
          "name": "stdout",
          "text": [
            "Hierarchical Silhouette Score: 0.048195348895382975\n",
            "Hierarchical Calinski-Harabasz Score: 21.31436910483836\n",
            "Hierarchical Davies-Bouldin Index: 2.6305912813308265\n"
          ]
        }
      ]
    },
    {
      "cell_type": "code",
      "source": [
        "from sklearn.cluster import estimate_bandwidth\n",
        "\n",
        "# Estimate bandwidth based on a subset of the data\n",
        "bandwidth = estimate_bandwidth(scaled_data, quantile=0.2)  # You can adjust the quantile to try different bandwidths\n",
        "\n",
        "# Apply Mean Shift with the custom bandwidth\n",
        "mean_shift = MeanShift(bandwidth=bandwidth)\n",
        "mean_shift_labels = mean_shift.fit_predict(scaled_data)\n",
        "\n",
        "# Check the number of unique clusters\n",
        "n_clusters = len(np.unique(mean_shift_labels))\n",
        "\n",
        "if n_clusters > 1:\n",
        "    # Mean Shift evaluation (only if more than 1 cluster is found)\n",
        "    mean_shift_silhouette = silhouette_score(scaled_data, mean_shift_labels)\n",
        "    mean_shift_calinski = calinski_harabasz_score(scaled_data, mean_shift_labels)\n",
        "    mean_shift_davies = davies_bouldin_score(scaled_data, mean_shift_labels)\n",
        "\n",
        "    print(f\"Mean Shift Silhouette Score: {mean_shift_silhouette}\")\n",
        "    print(f\"Mean Shift Calinski-Harabasz Score: {mean_shift_calinski}\")\n",
        "    print(f\"Mean Shift Davies-Bouldin Index: {mean_shift_davies}\")\n",
        "else:\n",
        "    print(f\"Mean Shift produced only {n_clusters} cluster(s). Skipping evaluation metrics.\")\n"
      ],
      "metadata": {
        "colab": {
          "base_uri": "https://localhost:8080/"
        },
        "id": "441N1eDF825B",
        "outputId": "1c0870a9-7340-4af6-f619-a63993d2cbc6"
      },
      "execution_count": 22,
      "outputs": [
        {
          "output_type": "stream",
          "name": "stdout",
          "text": [
            "Mean Shift Silhouette Score: 0.7595221893655161\n",
            "Mean Shift Calinski-Harabasz Score: 34.94008506685263\n",
            "Mean Shift Davies-Bouldin Index: 0.16693339306465904\n"
          ]
        }
      ]
    },
    {
      "cell_type": "code",
      "source": [
        "# K-Means Clusters Visualization\n",
        "plt.scatter(reduced_data[:, 0], reduced_data[:, 1], c=kmeans_labels, cmap='viridis')\n",
        "plt.title('K-Means Clustering (2D PCA)')\n",
        "plt.show()\n",
        "\n",
        "# Hierarchical Clustering Visualization\n",
        "plt.scatter(reduced_data[:, 0], reduced_data[:, 1], c=hierarchical_labels, cmap='plasma')\n",
        "plt.title('Hierarchical Clustering (2D PCA)')\n",
        "plt.show()\n",
        "\n",
        "# Mean Shift Clustering Visualization\n",
        "plt.scatter(reduced_data[:, 0], reduced_data[:, 1], c=mean_shift_labels, cmap='cividis')\n",
        "plt.title('Mean Shift Clustering (2D PCA)')\n",
        "plt.show()\n"
      ],
      "metadata": {
        "colab": {
          "base_uri": "https://localhost:8080/",
          "height": 1000
        },
        "id": "ZdZNJ8ti7rze",
        "outputId": "da57b774-c2c0-4f38-b0d0-2db5778ce3ac"
      },
      "execution_count": 23,
      "outputs": [
        {
          "output_type": "display_data",
          "data": {
            "text/plain": [
              "<Figure size 640x480 with 1 Axes>"
            ],
            "image/png": "[encoded data removed]"
          },
          "metadata": {}
        },
        {
          "output_type": "display_data",
          "data": {
            "text/plain": [
              "<Figure size 640x480 with 1 Axes>"
            ],
            "image/png": "[encoded data removed]"
          },
          "metadata": {}
        },
        {
          "output_type": "display_data",
          "data": {
            "text/plain": [
              "<Figure size 640x480 with 1 Axes>"
            ],
            "image/png": "[encoded data removed]"
          },
          "metadata": {}
        }
      ]
    }
  ]
}